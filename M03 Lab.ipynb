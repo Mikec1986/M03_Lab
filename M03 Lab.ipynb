{
 "cells": [
  {
   "cell_type": "code",
   "execution_count": 2,
   "id": "3f137aa1",
   "metadata": {},
   "outputs": [
    {
     "name": "stdout",
     "output_type": "stream",
     "text": [
      "What year is the vehicle? 2013\n",
      "What is the make of the vehicle? Subaru\n",
      "What is the model of the vehicle? Crosstrek\n",
      "Does the vehicle have two or four doors? 4\n",
      "Is the roof solid or is there a sun roof? sun roof\n",
      "Vehicle Type: car\n",
      "Vehicle year: 2013\n",
      "Vehicle make: Subaru\n",
      "Vehicle Model: Crosstrek\n",
      "Vehicle doors: 4\n",
      "Vehicle roof type: sun roof\n"
     ]
    }
   ],
   "source": [
    "#Vehicle Descriptor\n",
    "#Michael Coughlin\n",
    "#This progrom will ask the user for details about a vehicle and it will output the details in a neat, organized output\n",
    "#year is the vehicle's year\n",
    "#make is the vehicle's make\n",
    "#model is the vehicle's model\n",
    "#doors is the amount of doors the vehicle has (2 or 4)\n",
    "#roof is whether the vehicle has a sun roof or solid roof\n",
    "\n",
    "class Vehicle:\n",
    "    def __init__(self, VehicleType):\n",
    "        self.VehicleType = VehicleType\n",
    "\n",
    "class Automobile(Vehicle):\n",
    "    def __init__(self, year, make, model, doors, roof):\n",
    "        super().__init__(\"car\")\n",
    "        self.year = year\n",
    "        self.make = make\n",
    "        self.model = model\n",
    "        self.doors = doors\n",
    "        self.roof = roof\n",
    "\n",
    "def main():\n",
    "    year = input(\"What year is the vehicle? \")\n",
    "    make = input(\"What is the make of the vehicle? \")\n",
    "    model = input(\"What is the model of the vehicle? \")\n",
    "    doors = input(\"Does the vehicle have two or four doors? \")\n",
    "    roof = input(\"Is the roof solid or is there a sun roof? \")\n",
    "\n",
    "    vehicle = Automobile(year, make, model, doors, roof)\n",
    "\n",
    "    print(\"Vehicle Type:\", vehicle.VehicleType)\n",
    "    print(\"Vehicle year:\", vehicle.year)\n",
    "    print(\"Vehicle make:\", vehicle.make)\n",
    "    print(\"Vehicle Model:\", vehicle.model)\n",
    "    print(\"Vehicle doors:\", vehicle.doors)\n",
    "    print(\"Vehicle roof type:\", vehicle.roof)\n",
    "\n",
    "main()\n"
   ]
  },
  {
   "cell_type": "code",
   "execution_count": null,
   "id": "6e045980",
   "metadata": {},
   "outputs": [],
   "source": []
  }
 ],
 "metadata": {
  "kernelspec": {
   "display_name": "Python 3 (ipykernel)",
   "language": "python",
   "name": "python3"
  },
  "language_info": {
   "codemirror_mode": {
    "name": "ipython",
    "version": 3
   },
   "file_extension": ".py",
   "mimetype": "text/x-python",
   "name": "python",
   "nbconvert_exporter": "python",
   "pygments_lexer": "ipython3",
   "version": "3.11.4"
  }
 },
 "nbformat": 4,
 "nbformat_minor": 5
}
